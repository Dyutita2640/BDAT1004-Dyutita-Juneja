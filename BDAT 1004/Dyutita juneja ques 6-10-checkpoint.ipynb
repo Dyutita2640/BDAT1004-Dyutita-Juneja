{
 "cells": [
  {
   "cell_type": "code",
   "execution_count": 3,
   "metadata": {},
   "outputs": [],
   "source": [
    "#Ques6"
   ]
  },
  {
   "cell_type": "code",
   "execution_count": 4,
   "metadata": {},
   "outputs": [],
   "source": [
    "def pig(s):\n",
    "    a= s.lower()\n",
    "    x=a[0]\n",
    "    if(x in \"aeiou\"):\n",
    "        return (a+\"way\")\n",
    "    else:\n",
    "        return (a[1:]+a[0]+\"ay\")\n"
   ]
  },
  {
   "cell_type": "code",
   "execution_count": 5,
   "metadata": {},
   "outputs": [
    {
     "name": "stdout",
     "output_type": "stream",
     "text": [
      "appyhay\n"
     ]
    }
   ],
   "source": [
    "print(pig(\"happy\"))"
   ]
  },
  {
   "cell_type": "code",
   "execution_count": 6,
   "metadata": {},
   "outputs": [
    {
     "name": "stdout",
     "output_type": "stream",
     "text": [
      "enterway\n"
     ]
    }
   ],
   "source": [
    "print(pig(\"Enter\"))"
   ]
  },
  {
   "cell_type": "code",
   "execution_count": 17,
   "metadata": {},
   "outputs": [],
   "source": [
    "#ques7"
   ]
  },
  {
   "cell_type": "code",
   "execution_count": 1,
   "metadata": {},
   "outputs": [
    {
     "name": "stdout",
     "output_type": "stream",
     "text": [
      "There are 15 patients of bloodtype A\n",
      "There are 1 patients of bloodtype B\n",
      "There are 13 patients of bloodtype AB\n",
      "There are 15 patients of bloodtype O\n",
      "There are 0 patients of bloodtype OO\n"
     ]
    }
   ],
   "source": [
    "def bldcount(s):\n",
    "    file = open(s)\n",
    "    data = file.read()\n",
    "    bloodtypes = data.strip().split(' ')\n",
    "    valid_bloodtypes = [\"A\", \"B\", \"AB\", \"O\", \"OO\"]\n",
    "    counts = [0,0,0,0,0]\n",
    "    for bloodtype in bloodtypes:\n",
    "        if bloodtype in valid_bloodtypes:\n",
    "            idx = valid_bloodtypes.index(bloodtype)\n",
    "            counts[idx] += 1\n",
    "    for i, bloodtype in enumerate(valid_bloodtypes):\n",
    "        print(\"There are\", counts[i], \"patients of bloodtype\", bloodtype)\n",
    "bldcount(\"bloodtype1.txt\")\n"
   ]
  },
  {
   "cell_type": "code",
   "execution_count": 9,
   "metadata": {},
   "outputs": [],
   "source": [
    "#ques8"
   ]
  },
  {
   "cell_type": "code",
   "execution_count": 2,
   "metadata": {},
   "outputs": [
    {
     "name": "stdout",
     "output_type": "stream",
     "text": [
      "Converted amount in USD: 122.96544\n",
      "Converted amount in USD: 1.241401\n"
     ]
    }
   ],
   "source": [
    "def curConv(Currency, value):\n",
    "    f = open(\"currencies.txt\")\n",
    "    lines = f.readlines()\n",
    "    for line in lines:\n",
    "        s = line.strip().split('\\t')\n",
    "        code = s[0]\n",
    "        convFactor = float(s[1])\n",
    "        name = s[2]\n",
    "        \n",
    "        if Currency == code:\n",
    "            return value * convFactor\n",
    "    \n",
    "print(\"Converted amount in USD:\", curConv('EUR', 100))\n",
    "print(\"Converted amount in USD:\", curConv('JPY', 100))\n"
   ]
  },
  {
   "cell_type": "code",
   "execution_count": null,
   "metadata": {},
   "outputs": [],
   "source": []
  },
  {
   "cell_type": "code",
   "execution_count": 10,
   "metadata": {},
   "outputs": [],
   "source": [
    "#ques9"
   ]
  },
  {
   "cell_type": "code",
   "execution_count": 12,
   "metadata": {},
   "outputs": [
    {
     "ename": "SyntaxError",
     "evalue": "invalid syntax (<ipython-input-12-582de4d571bf>, line 1)",
     "output_type": "error",
     "traceback": [
      "\u001b[1;36m  File \u001b[1;32m\"<ipython-input-12-582de4d571bf>\"\u001b[1;36m, line \u001b[1;32m1\u001b[0m\n\u001b[1;33m    TypeError: Adding an integer and a string is not allowed in Python and will raise a TypeError.\u001b[0m\n\u001b[1;37m                      ^\u001b[0m\n\u001b[1;31mSyntaxError\u001b[0m\u001b[1;31m:\u001b[0m invalid syntax\n"
     ]
    }
   ],
   "source": [
    "TypeError: Adding an integer and a string is not allowed in Python and will raise a TypeError.\n",
    "IndexError: Trying to access an item in a list that doesn't exist will raise an IndexError.\n",
    "ValueError: Calling math.sqrt with a negative number as input will raise a ValueError.\n",
    "NameError: Using a variable that has not been defined will raise a NameError.\n",
    "FileNotFoundError: Trying to open a file that doesn't exist will raise a FileNotFoundError.\n"
   ]
  },
  {
   "cell_type": "code",
   "execution_count": 13,
   "metadata": {},
   "outputs": [],
   "source": [
    "#ques10"
   ]
  },
  {
   "cell_type": "code",
   "execution_count": 14,
   "metadata": {},
   "outputs": [
    {
     "data": {
      "text/plain": [
       "[1, 0, 0, 0, 0, 0, 0, 0, 0, 0, 0, 0, 1, 0, 0, 0, 0, 1, 0, 0, 0, 0, 0, 0, 0, 0]"
      ]
     },
     "execution_count": 14,
     "metadata": {},
     "output_type": "execute_result"
    }
   ],
   "source": [
    "def frequencies(text):\n",
    "    # Define the string of letters\n",
    "    letters = 'abcdefghijklmnopqrstuvwxyz'\n",
    "\n",
    "    # Initialize a list of counts to store the frequency of each letter\n",
    "    counts = [0] * 26\n",
    "\n",
    "    # Iterate over each character in the text\n",
    "    for char in text:\n",
    "        # Check if the character is in the string of letters\n",
    "        if char in letters:\n",
    "            # Increment the count for the corresponding letter\n",
    "            index = letters.index(char)\n",
    "            counts[index] += 1\n",
    "\n",
    "    return counts\n",
    "frequencies(\"ram\")"
   ]
  },
  {
   "cell_type": "code",
   "execution_count": null,
   "metadata": {},
   "outputs": [],
   "source": []
  }
 ],
 "metadata": {
  "kernelspec": {
   "display_name": "Python 3",
   "language": "python",
   "name": "python3"
  },
  "language_info": {
   "codemirror_mode": {
    "name": "ipython",
    "version": 3
   },
   "file_extension": ".py",
   "mimetype": "text/x-python",
   "name": "python",
   "nbconvert_exporter": "python",
   "pygments_lexer": "ipython3",
   "version": "3.8.5"
  }
 },
 "nbformat": 4,
 "nbformat_minor": 4
}
