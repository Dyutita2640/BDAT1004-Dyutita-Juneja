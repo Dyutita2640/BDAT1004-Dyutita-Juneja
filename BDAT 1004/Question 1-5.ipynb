{
 "cells": [
  {
   "cell_type": "code",
   "execution_count": 1,
   "metadata": {},
   "outputs": [],
   "source": [
    "//Question 1-5"
   ]
  },
  {
   "cell_type": "code",
   "execution_count": 2,
   "metadata": {},
   "outputs": [],
   "source": [
    "//Ques1"
   ]
  },
  {
   "cell_type": "code",
   "execution_count": null,
   "metadata": {},
   "outputs": [],
   "source": [
    "5 \n",
    "o\tinteger\n",
    "5.0 \n",
    "o\tfloating-point number\n",
    "5 > 1 \n",
    "o\tboolean (True or False) expression\n",
    "'5' \n",
    "o\tstring\n",
    "5 * 2 \n",
    "o\tinteger\n",
    "'5' * 2 \n",
    "o\tis a string because it repeats the original string twice\n",
    "'5' + '2' \n",
    "o\tis a string because concatenation of two strings\n",
    "5 / 2 \n",
    "o\tis a floating-point number\n",
    "5 % 2 \n",
    "o\tis an integer modulus or remainder\n",
    "{5, 2, 1} \n",
    "o\tis a set\n",
    "5 == 3 \n",
    "o\tis a boolean (True or False) expression\n",
    "Pi\n",
    "o\t(the number) is a floating-point number."
   ]
  },
  {
   "cell_type": "code",
   "execution_count": 28,
   "metadata": {},
   "outputs": [
    {
     "name": "stdout",
     "output_type": "stream",
     "text": [
      "There are 34 letters in str1\r\n"
     ]
    }
   ],
   "source": [
    "//ques 2a\n",
    "\n",
    "using System;\n",
    "using System.Collections.Generic;\n",
    "\n",
    "string str1 = \"Supercalifragilisticexpialidocious\";\n",
    "Console.WriteLine(\"There are {0} letters in str1\", str1.Length);\n"
   ]
  },
  {
   "cell_type": "code",
   "execution_count": 29,
   "metadata": {},
   "outputs": [
    {
     "name": "stdout",
     "output_type": "stream",
     "text": [
      "The value of str3 is in str2 = True\r\n"
     ]
    }
   ],
   "source": [
    "//ques 2b\n",
    "\n",
    "string str2 = \"Supercalifragilisticexpialidocious\"; \n",
    "string str3 = \"ice\";\n",
    "\n",
    "Console.WriteLine(\"The value of str3 is in str2 = {0}\", str2.Contains(str3));\n"
   ]
  },
  {
   "cell_type": "code",
   "execution_count": 30,
   "metadata": {},
   "outputs": [
    {
     "name": "stdout",
     "output_type": "stream",
     "text": [
      "The longgest word is = Supercalifragilisticexpialidocious\r\n"
     ]
    }
   ],
   "source": [
    "//ques 2c\n",
    "\n",
    "string str4 = \"Supercalifragilisticexpialidocious\";\n",
    "string str5 = \"Honorificabilitudinitatibus\";\n",
    "string str6 = \"Bababadalgharaghtakamminarronnkonn\";\n",
    "\n",
    "if ((str4.Length>=str5.Length) && (str4.Length>=str6.Length))\n",
    "    Console.WriteLine(\"The longgest word is = {0}\", str4);  \n",
    "                \n",
    "else if (str5.Length >= str6.Length)\n",
    "    Console.WriteLine(\"The longgest word is = {0}\", str5);\n",
    "else\n",
    "    Console.WriteLine(\"The longgest word is = {0}\", str6);\n"
   ]
  },
  {
   "cell_type": "code",
   "execution_count": 31,
   "metadata": {},
   "outputs": [
    {
     "name": "stdout",
     "output_type": "stream",
     "text": [
      "Bartok\n",
      "Bellini\n",
      "Berlioz\n",
      "Bernstein\n",
      "Borodin\n",
      "Brian\n",
      "Buxtehude\r\n"
     ]
    }
   ],
   "source": [
    "//ques 2d\n",
    "var MyList = new List<string>();\n",
    "\n",
    "MyList.Add(\"Berlioz\");\n",
    "MyList.Add(\"Borodin\");\n",
    "MyList.Add(\"Brian\");\n",
    "MyList.Add(\"Bartok\");\n",
    "MyList.Add(\"Bellini\");\n",
    "MyList.Add(\"Buxtehude\");\n",
    "MyList.Add(\"Bernstein\");\n",
    "\n",
    "MyList.Sort();\n",
    "Console.WriteLine(string.Join(\"\\n\", \n",
    "\n",
    "MyList));"
   ]
  },
  {
   "cell_type": "code",
   "execution_count": 46,
   "metadata": {},
   "outputs": [
    {
     "name": "stdout",
     "output_type": "stream",
     "text": [
      "1.7320508075688772\r\n"
     ]
    }
   ],
   "source": [
    "static void triangleArea(int a, int b,int c) \n",
    "{\n",
    "  double s = (a+b+c)/2;\n",
    "  Console.WriteLine (Math.Sqrt(s*(s-a*(s-b*(s-c)))));\n",
    "}\n",
    "\n",
    "triangleArea(2,2,2);"
   ]
  },
  {
   "cell_type": "code",
   "execution_count": 47,
   "metadata": {},
   "outputs": [
    {
     "name": "stdout",
     "output_type": "stream",
     "text": [
      "\n",
      "The Even elements are : \n",
      "42  56  32  \n",
      "The Odd elements are : \n",
      "25  47  "
     ]
    }
   ],
   "source": [
    "int[] array = {25,47,42,56,32};\n",
    "        int[] odd = new int[5];/* declaring odd array */\n",
    "        int[] even = new int[5];/* declaring even array */\n",
    "\n",
    "        int j = 0;/* declared for loop iteration */\n",
    "        for(int i=0;i<5;i++)/* iterating loop from  to total number of element in array*/\n",
    "        {\n",
    "            if(array[i]%2 == 0)/* checking if element is even or not */\n",
    "            {\n",
    "                even[j++] = array[i];//then add into even array\n",
    "            }\n",
    "        }\n",
    "        Console.WriteLine(\"\\nThe Even elements are : \");/* printing Even elements */  \n",
    "        for(int i=0;i<j;i++)/* iterating loop from  to total number of element in array*/\n",
    "        {\n",
    "            Console.Write(even[i] + \"  \");/*  print out elements of Even */\n",
    "\n",
    "        }\n",
    "        j = 0;/* reassign for loop iteration */\n",
    "        for(int i=0;i<5;i++)/* iterating loop from  to total number of element in array*/\n",
    "        {\n",
    "            if(array[i]%2 != 0)/* checking if element is odd or not */\n",
    "            {\n",
    "                odd[j++] = array[i];//then add into odd array\n",
    "            }\n",
    "        }\n",
    "        Console.WriteLine(\"\\nThe Odd elements are : \");/* printing Odd elements */\n",
    "        for(int i=0;i<j;i++)/* iterating loop from  to total number of element in array*/\n",
    "        {\n",
    "            Console.Write(odd[i] + \"  \");/* print out element */\n",
    "        }"
   ]
  },
  {
   "cell_type": "code",
   "execution_count": 48,
   "metadata": {},
   "outputs": [
    {
     "name": "stdout",
     "output_type": "stream",
     "text": [
      "Given statement is: True\r\n"
     ]
    }
   ],
   "source": [
    "//ques 5a\n",
    "static Boolean inside(int x, int y, int x1, int y1, int x2, int y2)\n",
    "{\n",
    "    if (x>=x1 && x<=x2 && y>=y1 && y<=y2)\n",
    "    {\n",
    "        return true;\n",
    "    }\n",
    "    else\n",
    "    {\n",
    "        return false;\n",
    "    }\n",
    "}\n",
    "Boolean statement = inside(1,1,0,0,2,3);\n",
    "Console.WriteLine(\"Given statement is: \"+statement);"
   ]
  },
  {
   "cell_type": "code",
   "execution_count": 49,
   "metadata": {},
   "outputs": [
    {
     "name": "stdout",
     "output_type": "stream",
     "text": [
      "Given condition is: False\r\n"
     ]
    }
   ],
   "source": [
    "//ques 5b\n",
    "static Boolean inside(double x, double y, double x1, double y1, double x2, double y2, double x3, double y3, double x4, double y4)\n",
    "{\n",
    "    if (x >= x1 && x <= x2 && y >= y1 && y <= y2 && x >= x3 && x <= x4 && y >= y3 && y <= y4)\n",
    "    {\n",
    "        return true;\n",
    "    }\n",
    "    {\n",
    "        return false;\n",
    "    }\n",
    "}\n",
    "Boolean points = inside(1.0, 1.0, 0.3, 0.5, 1.1, 0.7, 0.5, 0.2, 1.1, 2.0);\n",
    "Console.WriteLine(\"Given condition is: \"+points);"
   ]
  },
  {
   "cell_type": "code",
   "execution_count": null,
   "metadata": {},
   "outputs": [],
   "source": []
  }
 ],
 "metadata": {
  "kernelspec": {
   "display_name": ".NET (C#)",
   "language": "C#",
   "name": ".net-csharp"
  },
  "language_info": {
   "file_extension": ".cs",
   "mimetype": "text/x-csharp",
   "name": "C#",
   "pygments_lexer": "csharp",
   "version": "8.0"
  }
 },
 "nbformat": 4,
 "nbformat_minor": 4
}
